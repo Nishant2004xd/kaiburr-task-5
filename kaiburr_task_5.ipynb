{
  "nbformat": 4,
  "nbformat_minor": 0,
  "metadata": {
    "colab": {
      "provenance": []
    },
    "kernelspec": {
      "name": "python3",
      "display_name": "Python 3"
    },
    "language_info": {
      "name": "python"
    }
  },
  "cells": [
    {
      "cell_type": "code",
      "execution_count": null,
      "metadata": {
        "id": "9jECZ4NIWsFI"
      },
      "outputs": [],
      "source": []
    },
    {
      "cell_type": "code",
      "source": [
        "import pandas as pd\n",
        "\n",
        "# This is the URL for the raw CSV data\n",
        "url = \"https://files.consumerfinance.gov/ccdb/complaints.csv.zip\"\n",
        "\n",
        "# Pandas can read directly from a compressed URL\n",
        "print(\"Loading dataset... this may take a minute.\")\n",
        "try:\n",
        "    df = pd.read_csv(url, compression='zip')\n",
        "    print(\"Dataset loaded successfully!\")\n",
        "\n",
        "    # Display the first 5 rows\n",
        "    print(df.head())\n",
        "\n",
        "    # Display the column names\n",
        "    print(\"\\nColumn Names:\")\n",
        "    print(df.columns)\n",
        "\n",
        "except Exception as e:\n",
        "    print(f\"Error loading dataset: {e}\")"
      ],
      "metadata": {
        "colab": {
          "base_uri": "https://localhost:8080/"
        },
        "id": "xV01Ril_W7Sl",
        "outputId": "9aea0e00-dbb1-4563-c7c8-c105ebd3c162"
      },
      "execution_count": 1,
      "outputs": [
        {
          "output_type": "stream",
          "name": "stdout",
          "text": [
            "Loading dataset... this may take a minute.\n",
            "Dataset loaded successfully!\n",
            "  Date received                                            Product  \\\n",
            "0    2020-07-06  Credit reporting, credit repair services, or o...   \n",
            "1    2025-10-14  Credit reporting or other personal consumer re...   \n",
            "2    2025-10-10  Credit reporting or other personal consumer re...   \n",
            "3    2025-10-15  Credit reporting or other personal consumer re...   \n",
            "4    2025-10-17  Credit reporting or other personal consumer re...   \n",
            "\n",
            "        Sub-product                                 Issue  \\\n",
            "0  Credit reporting  Incorrect information on your report   \n",
            "1  Credit reporting  Incorrect information on your report   \n",
            "2  Credit reporting  Incorrect information on your report   \n",
            "3  Credit reporting  Incorrect information on your report   \n",
            "4  Credit reporting  Incorrect information on your report   \n",
            "\n",
            "                                           Sub-issue  \\\n",
            "0                Information belongs to someone else   \n",
            "1  Information is missing that should be on the r...   \n",
            "2                Information belongs to someone else   \n",
            "3                Information belongs to someone else   \n",
            "4                Information belongs to someone else   \n",
            "\n",
            "  Consumer complaint narrative  \\\n",
            "0                          NaN   \n",
            "1                          NaN   \n",
            "2                          NaN   \n",
            "3                          NaN   \n",
            "4                          NaN   \n",
            "\n",
            "                             Company public response  \\\n",
            "0  Company has responded to the consumer and the ...   \n",
            "1                                                NaN   \n",
            "2                                                NaN   \n",
            "3                                                NaN   \n",
            "4                                                NaN   \n",
            "\n",
            "                                  Company State ZIP code Tags  \\\n",
            "0     Experian Information Solutions Inc.    FL    346XX  NaN   \n",
            "1                           EQUIFAX, INC.    TX    75062  NaN   \n",
            "2                           EQUIFAX, INC.    GA    30341  NaN   \n",
            "3  TRANSUNION INTERMEDIATE HOLDINGS, INC.    TX    75287  NaN   \n",
            "4  TRANSUNION INTERMEDIATE HOLDINGS, INC.    NC    27127  NaN   \n",
            "\n",
            "  Consumer consent provided? Submitted via Date sent to company  \\\n",
            "0                      Other           Web           2020-07-06   \n",
            "1                        NaN           Web           2025-10-14   \n",
            "2                        NaN           Web           2025-10-10   \n",
            "3                        NaN           Web           2025-10-15   \n",
            "4                        NaN           Web           2025-10-17   \n",
            "\n",
            "  Company response to consumer Timely response? Consumer disputed?  \\\n",
            "0      Closed with explanation              Yes                NaN   \n",
            "1                  In progress              Yes                NaN   \n",
            "2                  In progress              Yes                NaN   \n",
            "3                  In progress              Yes                NaN   \n",
            "4                  In progress              Yes                NaN   \n",
            "\n",
            "   Complaint ID  \n",
            "0       3730948  \n",
            "1      16558024  \n",
            "2      16507707  \n",
            "3      16593757  \n",
            "4      16649455  \n",
            "\n",
            "Column Names:\n",
            "Index(['Date received', 'Product', 'Sub-product', 'Issue', 'Sub-issue',\n",
            "       'Consumer complaint narrative', 'Company public response', 'Company',\n",
            "       'State', 'ZIP code', 'Tags', 'Consumer consent provided?',\n",
            "       'Submitted via', 'Date sent to company', 'Company response to consumer',\n",
            "       'Timely response?', 'Consumer disputed?', 'Complaint ID'],\n",
            "      dtype='object')\n"
          ]
        }
      ]
    },
    {
      "cell_type": "code",
      "source": [
        "import pandas as pd\n",
        "from sklearn.preprocessing import LabelEncoder\n",
        "\n",
        "# 1. Drop rows where 'Consumer complaint narrative' is missing\n",
        "print(\"Original data shape:\", df.shape)\n",
        "df_cleaned = df.dropna(subset=['Consumer complaint narrative'])\n",
        "print(\"Shape after dropping empty complaints:\", df_cleaned.shape)\n",
        "\n",
        "# 2. Define the 4 target categories from the PDF\n",
        "target_categories = [\n",
        "    \"Credit reporting, credit repair services, or other personal consumer reports\",\n",
        "    \"Debt collection\",\n",
        "    \"Consumer Loan\",\n",
        "    \"Mortgage\"\n",
        "]\n",
        "\n",
        "# 3. Filter the DataFrame to only include these categories\n",
        "df_filtered = df_cleaned[df_cleaned['Product'].isin(target_categories)].copy()\n",
        "print(\"Shape after filtering for 4 categories:\", df_filtered.shape)\n",
        "\n",
        "# 4. Create our X and y\n",
        "X = df_filtered['Consumer complaint narrative']\n",
        "y_text = df_filtered['Product']\n",
        "\n",
        "# 5. Encode the text labels (y) into numbers\n",
        "encoder = LabelEncoder()\n",
        "y = encoder.fit_transform(y_text)\n",
        "\n",
        "# --- Verification ---\n",
        "print(\"\\nData is ready for processing.\")\n",
        "print(\"Total samples:\", len(y))\n",
        "\n",
        "# Show the mapping of text labels to numbers (from the PDF)\n",
        "# Note: The order (0, 1, 2, 3) might differ based on the encoder, which is fine.\n",
        "print(\"\\nCategory to Number Mapping:\")\n",
        "for i, class_name in enumerate(encoder.classes_):\n",
        "    print(f\"'{class_name}': {i}\")"
      ],
      "metadata": {
        "colab": {
          "base_uri": "https://localhost:8080/"
        },
        "id": "MoT7EsRVYApN",
        "outputId": "3bc60b29-456c-47bb-b84a-5d9056597c44"
      },
      "execution_count": 2,
      "outputs": [
        {
          "output_type": "stream",
          "name": "stdout",
          "text": [
            "Original data shape: (11535877, 18)\n",
            "Shape after dropping empty complaints: (3416745, 18)\n",
            "Shape after filtering for 4 categories: (1323496, 18)\n",
            "\n",
            "Data is ready for processing.\n",
            "Total samples: 1323496\n",
            "\n",
            "Category to Number Mapping:\n",
            "'Consumer Loan': 0\n",
            "'Credit reporting, credit repair services, or other personal consumer reports': 1\n",
            "'Debt collection': 2\n",
            "'Mortgage': 3\n"
          ]
        }
      ]
    },
    {
      "cell_type": "code",
      "source": [
        "from sklearn.model_selection import train_test_split\n",
        "from sklearn.feature_extraction.text import TfidfVectorizer\n",
        "import re\n",
        "\n",
        "print(\"Starting text pre-processing and data split...\")\n",
        "\n",
        "# 1. Define a pre-processing function\n",
        "def preprocess_text(text):\n",
        "    # Convert to lowercase\n",
        "    text = text.lower()\n",
        "    # Remove numbers and punctuation\n",
        "    text = re.sub(r'[^a-z\\s]', '', text)\n",
        "    # Remove extra whitespace\n",
        "    text = re.sub(r'\\s+', ' ', text).strip()\n",
        "    return text\n",
        "\n",
        "# 2. Apply the pre-processing to our text data (X)\n",
        "# This might take a moment\n",
        "X_preprocessed = X.apply(preprocess_text)\n",
        "print(\"Text pre-processing complete.\")\n",
        "\n",
        "# 3. Split the data into training and testing sets\n",
        "# We use 80% for training and 20% for testing\n",
        "X_train, X_test, y_train, y_test = train_test_split(\n",
        "    X_preprocessed,\n",
        "    y,\n",
        "    test_size=0.2,\n",
        "    random_state=42,  # Ensures we get the same split every time\n",
        "    stratify=y         # Keeps the category balance in both sets\n",
        ")\n",
        "\n",
        "print(f\"Training samples: {len(X_train)}\")\n",
        "print(f\"Testing samples: {len(X_test)}\")\n",
        "\n",
        "# 4. Set up the TF-IDF Vectorizer\n",
        "# This will convert our text into a matrix of numbers\n",
        "# 'stop_words='english'' automatically removes common English words\n",
        "tfidf_vectorizer = TfidfVectorizer(stop_words='english', max_features=10000)\n",
        "\n",
        "print(\"\\nStarting TF-IDF vectorization (Feature Engineering)...\")\n",
        "\n",
        "# Fit on training data and transform it\n",
        "X_train_tfidf = tfidf_vectorizer.fit_transform(X_train)\n",
        "\n",
        "# Only transform the test data (using the vocab from training)\n",
        "X_test_tfidf = tfidf_vectorizer.transform(X_test)\n",
        "\n",
        "print(\"Feature engineering complete.\")\n",
        "print(f\"Shape of TF-IDF matrix for training data: {X_train_tfidf.shape}\")"
      ],
      "metadata": {
        "colab": {
          "base_uri": "https://localhost:8080/"
        },
        "id": "Ky8wL2uhYkc9",
        "outputId": "82bb2a8b-0ae4-4993-b019-ecdde4c6eda2"
      },
      "execution_count": 3,
      "outputs": [
        {
          "output_type": "stream",
          "name": "stdout",
          "text": [
            "Starting text pre-processing and data split...\n",
            "Text pre-processing complete.\n",
            "Training samples: 1058796\n",
            "Testing samples: 264700\n",
            "\n",
            "Starting TF-IDF vectorization (Feature Engineering)...\n",
            "Feature engineering complete.\n",
            "Shape of TF-IDF matrix for training data: (1058796, 10000)\n"
          ]
        }
      ]
    },
    {
      "cell_type": "code",
      "source": [
        "from sklearn.linear_model import LogisticRegression\n",
        "from sklearn.naive_bayes import MultinomialNB\n",
        "from sklearn.metrics import classification_report, accuracy_score\n",
        "\n",
        "print(\"--- Step 4: Model Selection & Training ---\")\n",
        "\n",
        "# --- Model 1: Logistic Regression ---\n",
        "print(\"\\nTraining Logistic Regression model...\")\n",
        "# 'multi_class='ovr'' means 'one-vs-rest'\n",
        "# 'solver='liblinear'' is a good default for this type of problem\n",
        "lr_model = LogisticRegression(multi_class='ovr', solver='liblinear', random_state=42)\n",
        "lr_model.fit(X_train_tfidf, y_train)\n",
        "print(\"Logistic Regression training complete.\")\n",
        "\n",
        "# --- Model 2: Multinomial Naive Bayes ---\n",
        "print(\"\\nTraining Naive Bayes model...\")\n",
        "nb_model = MultinomialNB()\n",
        "nb_model.fit(X_train_tfidf, y_train)\n",
        "print(\"Naive Bayes training complete.\")\n",
        "\n",
        "print(\"\\n--- Step 5: Model Comparison & Evaluation ---\")\n",
        "\n",
        "# Get the category names from our encoder\n",
        "category_names = encoder.classes_\n",
        "\n",
        "# --- Evaluate Logistic Regression ---\n",
        "print(\"\\n--- Logistic Regression Evaluation ---\")\n",
        "y_pred_lr = lr_model.predict(X_test_tfidf)\n",
        "print(f\"Accuracy: {accuracy_score(y_test, y_pred_lr):.4f}\")\n",
        "print(\"\\nClassification Report:\")\n",
        "print(classification_report(y_test, y_pred_lr, target_names=category_names))\n",
        "\n",
        "# --- Evaluate Naive Bayes ---\n",
        "print(\"\\n--- Naive Bayes Evaluation ---\")\n",
        "y_pred_nb = nb_model.predict(X_test_tfidf)\n",
        "print(f\"Accuracy: {accuracy_score(y_test, y_pred_nb):.4f}\")\n",
        "print(\"\\nClassification Report:\")\n",
        "print(classification_report(y_test, y_pred_nb, target_names=category_names))"
      ],
      "metadata": {
        "colab": {
          "base_uri": "https://localhost:8080/"
        },
        "id": "4LsrM_wDbF-D",
        "outputId": "e086807e-75e4-4f18-bc34-6c5494c57ca9"
      },
      "execution_count": 4,
      "outputs": [
        {
          "output_type": "stream",
          "name": "stdout",
          "text": [
            "--- Step 4: Model Selection & Training ---\n",
            "\n",
            "Training Logistic Regression model...\n"
          ]
        },
        {
          "output_type": "stream",
          "name": "stderr",
          "text": [
            "/usr/local/lib/python3.12/dist-packages/sklearn/linear_model/_logistic.py:1256: FutureWarning: 'multi_class' was deprecated in version 1.5 and will be removed in 1.7. Use OneVsRestClassifier(LogisticRegression(..)) instead. Leave it to its default value to avoid this warning.\n",
            "  warnings.warn(\n"
          ]
        },
        {
          "output_type": "stream",
          "name": "stdout",
          "text": [
            "Logistic Regression training complete.\n",
            "\n",
            "Training Naive Bayes model...\n",
            "Naive Bayes training complete.\n",
            "\n",
            "--- Step 5: Model Comparison & Evaluation ---\n",
            "\n",
            "--- Logistic Regression Evaluation ---\n",
            "Accuracy: 0.9091\n",
            "\n",
            "Classification Report:\n",
            "                                                                              precision    recall  f1-score   support\n",
            "\n",
            "                                                               Consumer Loan       0.73      0.30      0.42      1892\n",
            "Credit reporting, credit repair services, or other personal consumer reports       0.92      0.95      0.93    161456\n",
            "                                                             Debt collection       0.88      0.84      0.86     74380\n",
            "                                                                    Mortgage       0.92      0.93      0.93     26972\n",
            "\n",
            "                                                                    accuracy                           0.91    264700\n",
            "                                                                   macro avg       0.86      0.75      0.78    264700\n",
            "                                                                weighted avg       0.91      0.91      0.91    264700\n",
            "\n",
            "\n",
            "--- Naive Bayes Evaluation ---\n",
            "Accuracy: 0.8769\n",
            "\n",
            "Classification Report:\n",
            "                                                                              precision    recall  f1-score   support\n",
            "\n",
            "                                                               Consumer Loan       0.45      0.27      0.34      1892\n",
            "Credit reporting, credit repair services, or other personal consumer reports       0.90      0.92      0.91    161456\n",
            "                                                             Debt collection       0.85      0.77      0.81     74380\n",
            "                                                                    Mortgage       0.82      0.95      0.88     26972\n",
            "\n",
            "                                                                    accuracy                           0.88    264700\n",
            "                                                                   macro avg       0.75      0.73      0.73    264700\n",
            "                                                                weighted avg       0.88      0.88      0.87    264700\n",
            "\n"
          ]
        }
      ]
    },
    {
      "cell_type": "code",
      "source": [
        "import numpy as np\n",
        "\n",
        "print(\"--- Step 6: Prediction ---\")\n",
        "\n",
        "# Choose the best model (change 'lr_model' to 'nb_model' if Naive Bayes was better)\n",
        "best_model = lr_model\n",
        "\n",
        "# 1. Create new, example complaint texts\n",
        "new_complaints = [\n",
        "    \"I checked my credit report and there is an account that does not belong to me!\",\n",
        "    \"A company keeps calling my cell phone trying to collect a debt that I already paid off.\",\n",
        "    \"My application for a car loan was denied, and I don't know why.\",\n",
        "    \"I am having an issue with my mortgage escrow account, the payment is wrong.\"\n",
        "]\n",
        "\n",
        "print(f\"Predicting categories for {len(new_complaints)} new complaints...\\n\")\n",
        "\n",
        "# 2. Pre-process the new text (using the same function as before)\n",
        "processed_complaints = [preprocess_text(text) for text in new_complaints]\n",
        "\n",
        "# 3. Vectorize the new text (using the same TF-IDF vectorizer)\n",
        "new_complaints_tfidf = tfidf_vectorizer.transform(processed_complaints)\n",
        "\n",
        "# 4. Predict using the best model\n",
        "predictions = best_model.predict(new_complaints_tfidf)\n",
        "\n",
        "# 5. Decode the number predictions back into text labels\n",
        "predicted_categories = encoder.inverse_transform(predictions)\n",
        "\n",
        "# --- Display the results ---\n",
        "for i in range(len(new_complaints)):\n",
        "    print(f\"Complaint: \\\"{new_complaints[i]}\\\"\")\n",
        "    print(f\"--> Predicted Category: {predicted_categories[i]}\\n\")"
      ],
      "metadata": {
        "colab": {
          "base_uri": "https://localhost:8080/"
        },
        "id": "CRUKE6Zeb_jD",
        "outputId": "a54a0fae-01b2-4848-97b1-771996497863"
      },
      "execution_count": 5,
      "outputs": [
        {
          "output_type": "stream",
          "name": "stdout",
          "text": [
            "--- Step 6: Prediction ---\n",
            "Predicting categories for 4 new complaints...\n",
            "\n",
            "Complaint: \"I checked my credit report and there is an account that does not belong to me!\"\n",
            "--> Predicted Category: Credit reporting, credit repair services, or other personal consumer reports\n",
            "\n",
            "Complaint: \"A company keeps calling my cell phone trying to collect a debt that I already paid off.\"\n",
            "--> Predicted Category: Debt collection\n",
            "\n",
            "Complaint: \"My application for a car loan was denied, and I don't know why.\"\n",
            "--> Predicted Category: Credit reporting, credit repair services, or other personal consumer reports\n",
            "\n",
            "Complaint: \"I am having an issue with my mortgage escrow account, the payment is wrong.\"\n",
            "--> Predicted Category: Mortgage\n",
            "\n"
          ]
        }
      ]
    }
  ]
}